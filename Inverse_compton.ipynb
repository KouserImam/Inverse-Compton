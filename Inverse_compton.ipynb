{
  "cells": [
    {
      "cell_type": "markdown",
      "metadata": {
        "id": "view-in-github",
        "colab_type": "text"
      },
      "source": [
        "<a href=\"https://colab.research.google.com/github/KouserImam/Inverse-Compton/blob/develop/Inverse_compton.ipynb\" target=\"_parent\"><img src=\"https://colab.research.google.com/assets/colab-badge.svg\" alt=\"Open In Colab\"/></a>"
      ]
    },
    {
      "cell_type": "markdown",
      "metadata": {
        "id": "TMmFdGvZEkgu"
      },
      "source": [
        "# Inverse Compton\n",
        "The goal of this notebook is to demonstrate Inverse Compton Scattering in AGN."
      ]
    },
    {
      "cell_type": "markdown",
      "metadata": {
        "id": "iutTtpyJEkgw"
      },
      "source": [
        "Begin by installing and importing the necessary python libraries"
      ]
    },
    {
      "cell_type": "code",
      "execution_count": null,
      "metadata": {
        "id": "s6aHPfI1Ekgw"
      },
      "outputs": [],
      "source": [
        "import sys\n",
        "import numpy as np\n",
        "from ipywidgets import interact, interactive\n",
        "import ipywidgets as widgets\n",
        "\n",
        "!{sys.executable} -m pip install --quiet matplotlib\n",
        "\n",
        "import matplotlib.pyplot as plt"
      ]
    },
    {
      "cell_type": "markdown",
      "metadata": {
        "id": "M5UqPXM6Ekgx"
      },
      "source": [
        "# Types of inverse compton scattering"
      ]
    },
    {
      "cell_type": "markdown",
      "metadata": {
        "id": "csP46IkCEkgx"
      },
      "source": [
        "Define some routines for the notebook.  Create an array."
      ]
    },
    {
      "cell_type": "code",
      "execution_count": null,
      "metadata": {
        "id": "ObxzaimgEkgx"
      },
      "outputs": [],
      "source": []
    },
    {
      "cell_type": "markdown",
      "metadata": {
        "id": "fJvRKXHNEkgy"
      },
      "source": [
        "Now plot a line with variable slope."
      ]
    },
    {
      "cell_type": "code",
      "execution_count": null,
      "metadata": {
        "id": "xBBDjc-cEkgy",
        "outputId": "8b1dd60e-fced-45fc-d3fb-89b48dc7af2d",
        "colab": {
          "referenced_widgets": [
            "8d8b5378435b4bc0a788482843c33889"
          ]
        }
      },
      "outputs": [
        {
          "data": {
            "application/vnd.jupyter.widget-view+json": {
              "model_id": "8d8b5378435b4bc0a788482843c33889",
              "version_major": 2,
              "version_minor": 0
            },
            "text/plain": [
              "interactive(children=(BoundedFloatText(value=1.0, description='m', max=10.0, step=0.1), Output()), _dom_classe…"
            ]
          },
          "metadata": {},
          "output_type": "display_data"
        },
        {
          "data": {
            "text/plain": [
              "<function __main__.plot_with_slope(m)>"
            ]
          },
          "execution_count": 3,
          "metadata": {},
          "output_type": "execute_result"
        }
      ],
      "source": [
        "\n",
        "interact(plot_with_slope, m = widgets.BoundedFloatText(value=1, min=0, max = 10, step=0.1,\n",
        "                                                       descriptions='Slope:', disabled=False))"
      ]
    },
    {
      "cell_type": "code",
      "execution_count": null,
      "metadata": {
        "id": "hAWHTVR7Ekgy"
      },
      "outputs": [],
      "source": []
    }
  ],
  "metadata": {
    "interpreter": {
      "hash": "fd578b525fe7fcca8a3ea11350d18bcbeb29af20bd1df15f6c5fd2c9cf111483"
    },
    "kernelspec": {
      "display_name": "Python 3 (ipykernel)",
      "language": "python",
      "name": "python3"
    },
    "language_info": {
      "codemirror_mode": {
        "name": "ipython",
        "version": 3
      },
      "file_extension": ".py",
      "mimetype": "text/x-python",
      "name": "python",
      "nbconvert_exporter": "python",
      "pygments_lexer": "ipython3",
      "version": "3.11.4"
    },
    "colab": {
      "provenance": [],
      "include_colab_link": true
    }
  },
  "nbformat": 4,
  "nbformat_minor": 0
}